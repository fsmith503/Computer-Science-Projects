
bag_of_words = all_words(gothic_table)

def question1A(bag_of_words_input):
  '''
  MIDTERM PRACTICE QUESTION 1A
  Find all the words that are unique to EAP, i.e., they are only used by EAP.
  '''
  words_unique_list = []
  for text in bag_of_words_input:
    if text[1] == [1,0,0]:
      words_unique_list.append(text[0])
      #print("the word {} is unique to EAP".format(text[0]))
  return words_unique_list

#question1A(bag_of_words)

def Convert(tup, di): 
    di = dict(tup) 
    return di 

def question1B(author, input_bag):  
  '''
  MIDTERM PRACTICE QUESTION 1B
  b. Now write a function that takes author and bag as arguments, and returns all the words
  for that author that are unique to that author. You can test your function by making sure
  when you call it with EAP, you get same results as when doing it by hand in part a.
  '''
  word_list = []
  bag_dictionary = {}
  input_bag = Convert(input_bag, bag_dictionary)
  if author == "EAP":
    target = [1,0,0]
  if author == "HPL":
    target = [0,1,0]
  if author == "MWS":
    target = [0,0,1]
  for word_variable in input_bag.keys():
    if input_bag[word_variable] == target:
      word_list.append(word_variable)
  return word_list
  

var1 = question1A(bag_of_words)
print(var1)
var2 = question1B("EAP", bag_of_words)
print(var2)
if var1 == var2:
  print("the lists are the same and correct")
if var1 != var2:
  print("the lists are different there is a bug")
  


#midterm 2 practice

#I'd suggest just appending on to the end of your module 4 solution given you will
#then have everything you need for NB.
#a. Slice off the first 1000 rows from gothic_table and save in small_goth.
#b. Run naive_bayes_gothic on small_goth and save the triples produced in goth_triples.
#c. Compute the standard-deviation (AKA sigma) of each triple. Store in sigmas. Please compute sigma from scratch, not from built-in library functions. 
#d. Compute the average sigma from sigmas. I get 5.26900538491754e-05.
import math  
import re

#sigma formula URL https://www.mathsisfun.com/algebra/sigma-notation.html

def part2():
  goth_triples = []
  triples_sigmas = []
  small_goth = gothic_table[:1000] #a. Slice off the first 1000 rows from gothic_table and save in small_goth.
  for i in range(len(small_goth)):
    goth_triples.append(naive_bayes_gothic(gothic_table.loc[i, 'text'], bag_of_words, total_count))#Run naive_bayes_gothic on small_goth and save the triples produced in goth_triples.
  for triple in goth_triples:
    mean = (triple[0] + triple[1] + triple[2])/3
    first = (triple[0] - mean)**2
    second = (triple[1] - mean)**2
    third = (triple[2] - mean)**2
    squared_mean = (first + second + third) / 3
    sqrt_of_squared_mean = math.sqrt(squared_mean)
    triples_sigmas.append(sqrt_of_squared_mean) #c. Compute the standard-deviation (AKA sigma) of each triple. Store in sigmas. Please compute sigma from scratch, not from built-in library functions. 
  avg_overall_sigmas = 0
  for stdevs in triples_sigmas:
    avg_overall_sigmas += stdevs
  output = (avg_overall_sigmas / len(triples_sigmas)) #Compute the average sigma from sigmas. I get 5.26900538491754e-05.
  print(output)

part2()


#Part 3.

#a. Use the re library to define a pattern that will take a string of digits. If the last digit
#is a 0, then return the first digit. For example:
#12340' => '1'
#'12345' => None
#'0' => '0'
#'01' => None
#'60' => 6
#'1a0' => None

#b. Package it up in a function: that takes a string of digits and returns None or first digit.
#And remember that you need an re pattern, not your own loop.


def part3correct(digits):
  """
  #a. Use the re library to define a pattern that will take a string of digits. If the last digit
  #is a 0, then return the first digit. For example:
  #12340' => '1'
  #'12345' => None
  #'0' => '0'
  #'01' => None
  #'60' => 6
  #'1a0' => None
  """
  pattern = re.compile('0')   #a. Use the re library to define a pattern
  result = pattern.findall(digits)
  if len(result) >= 1 and digits[len(digits)-1] == '0': #If the last digit is a 0,
    return(digits[0]) #then return the first digit
  else:
    return("None")

part3correct('12340')
part3correct('12345')
part3correct('0')
part3correct('01')
part3correct('60')
part3correct('1a0')

print("end of part 3 correct")
